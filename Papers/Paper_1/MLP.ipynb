{
 "cells": [
  {
   "cell_type": "code",
   "execution_count": 1,
   "metadata": {},
   "outputs": [],
   "source": [
    "import numpy as np\n",
    "import pandas as pd\n",
    "from math import *\n",
    "from statistics import *\n",
    "import yfinance as yf\n",
    "from fin_lib import *\n",
    "from Backtesting import *\n",
    "import warnings\n",
    "warnings.filterwarnings(\"ignore\")\n",
    "\n"
   ]
  },
  {
   "cell_type": "code",
   "execution_count": 2,
   "metadata": {},
   "outputs": [],
   "source": [
    "df = pd.read_excel('google.xlsx')\n",
    "df.index = pd.to_datetime(df['Date'])\n",
    "df = df.drop(columns=['Date','Open','High','Low','Adj Close'])\n",
    "df['SMA5'] = df['Close'].rolling(5).mean()\n",
    "df['SMA10'] = df['Close'].rolling(10).mean()\n",
    "df['SMA15'] = df['Close'].rolling(15).mean()\n",
    "df['SMA20'] = df['Close'].rolling(20).mean()\n",
    "df = df.dropna()"
   ]
  },
  {
   "cell_type": "code",
   "execution_count": 3,
   "metadata": {},
   "outputs": [
    {
     "name": "stdout",
     "output_type": "stream",
     "text": [
      "Number of Combinations =  440\n"
     ]
    }
   ],
   "source": [
    "## we have alpha = number of past days to include, beta = profit margin, gamma = number of future days to hold.\n",
    "params = {\n",
    "    'alpha': list(range(1,11)),\n",
    "    'beta': [0.02, 0.025, 0.03, 0.035, 0.04, 0.045, 0.05, 0.055, 0.06, 0.065, 0.07],\n",
    "    'gamma': list(range(5,21,5))\n",
    "\n",
    "}\n",
    "\n",
    "print(\"Number of Combinations = \",len(params['alpha'])*len(params['beta'])*len(params['gamma']))\n",
    "keys = list(params.keys())\n"
   ]
  },
  {
   "cell_type": "code",
   "execution_count": 4,
   "metadata": {},
   "outputs": [],
   "source": [
    "df['SMA5TARGET'] = [0]*len(df)\n",
    "df['SMA10TARGET'] = [0]*len(df)\n",
    "df['SMA15TARGET'] = [0]*len(df)\n",
    "df['SMA20TARGET'] = [0]*len(df)\n",
    "df['COMBINED_SMA_TARGET'] = [0]*len(df)\n"
   ]
  },
  {
   "cell_type": "code",
   "execution_count": null,
   "metadata": {},
   "outputs": [],
   "source": [
    "for i in range(len(df)):\n",
    "    if df['SMA5'][i] > df['SMA10'][i]:\n",
    "        df['SMA5TARGET'][i] = 1\n",
    "    \n",
    "    if df['SMA10'][i] > df['SMA15'][i]:\n",
    "        df['SMA10TARGET'][i] = 1\n",
    "    if df['SMA15'][i] > df['SMA20'][i]:\n",
    "        df['SMA15TARGET'][i] = 1\n",
    "\n",
    "\n",
    "    if (df['SMA5TARGET'][i] == 1) and (df['SMA10TARGET'][i] == 1) and (df['SMA15TARGET'][i] == 1):\n",
    "        df['COMBINED_SMA_TARGET'][i] = 1\n",
    "        \n",
    "\n",
    "df = df.drop(columns=['SMA5','SMA10','SMA15','SMA20',])"
   ]
  },
  {
   "cell_type": "code",
   "execution_count": 5,
   "metadata": {},
   "outputs": [
    {
     "name": "stdout",
     "output_type": "stream",
     "text": [
      "Batch 1: 751 rows\n",
      "Batch 2: 751 rows\n",
      "Batch 3: 751 rows\n",
      "Batch 4: 751 rows\n",
      "Batch 5: 751 rows\n"
     ]
    }
   ],
   "source": [
    "num_batches = 5\n",
    "rows_per_batch = len(df) // num_batches\n",
    "batches = [df.iloc[i*rows_per_batch:(i+1)*rows_per_batch] for i in range(num_batches)]\n",
    "if len(df) % num_batches != 0:\n",
    "    batches[-1] = pd.concat([batches[-1], df.iloc[num_batches*rows_per_batch:]])\n",
    "\n",
    "for i, batch in enumerate(batches):\n",
    "    print(f\"Batch {i+1}: {len(batch)} rows\")\n"
   ]
  },
  {
   "cell_type": "code",
   "execution_count": 7,
   "metadata": {},
   "outputs": [],
   "source": [
    "results_dic = {}\n",
    "for r in range(len(batches)):\n",
    "    df = pd.DataFrame()\n",
    "    df = batches[r]\n",
    "    model_results = {}\n",
    "    counter=0\n",
    "\n",
    "    for j in range(len(params[keys[1]])):\n",
    "        beta = params[keys[1]][j]\n",
    "        df = target_creation(df,beta)\n",
    "        for z in range(len(params[keys[0]])):\n",
    "            alpha = params[keys[0]][z]\n",
    "            X_train_scaled,X_test_scaled,y_train,y_test = preprocessing(df,alpha)\n",
    "            pred,precision = Models.MLP(X_train_scaled,X_test_scaled,y_train,y_test)\n",
    "            for k in range(len(params[keys[2]])):\n",
    "                gamma = params[keys[2]][k]\n",
    "                current_vals = [gamma,len(X_train_scaled)]\n",
    "                transaction_dict,result = Strategies.gamma_based_strategy(df,len(X_train_scaled),pred,gamma)\n",
    "                current_params = [alpha,beta,gamma]\n",
    "                \n",
    "                counter+=1\n",
    "                model_results.update({counter:[current_params,[precision],[float(result)]]})\n",
    "                results_dic.update({r:model_results})\n",
    "\n",
    "\n",
    "    "
   ]
  },
  {
   "cell_type": "code",
   "execution_count": 8,
   "metadata": {},
   "outputs": [],
   "source": [
    "scores = []\n",
    "for i in range(1, len(model_results)):\n",
    "    param_array = []\n",
    "\n",
    "    for j in range(len(results_dic)):\n",
    "        current = results_dic[j][i][2]\n",
    "        param_array.append(current[0])\n",
    "        \n",
    "        if len(param_array) == 5:\n",
    "            scores.append(mean(param_array))\n",
    "            param_array = []\n",
    "\n"
   ]
  },
  {
   "cell_type": "code",
   "execution_count": 10,
   "metadata": {},
   "outputs": [
    {
     "name": "stdout",
     "output_type": "stream",
     "text": [
      "105\n"
     ]
    },
    {
     "data": {
      "text/plain": [
       "[[7, 0.03, 5], [0.1111111111111111], [39.74000549316423]]"
      ]
     },
     "execution_count": 10,
     "metadata": {},
     "output_type": "execute_result"
    }
   ],
   "source": [
    "for i in range(len(scores)):\n",
    "    if scores[i] == max(scores):\n",
    "        print(i+1)\n",
    "results_dic[4][105]"
   ]
  }
 ],
 "metadata": {
  "kernelspec": {
   "display_name": "Python 3",
   "language": "python",
   "name": "python3"
  },
  "language_info": {
   "codemirror_mode": {
    "name": "ipython",
    "version": 3
   },
   "file_extension": ".py",
   "mimetype": "text/x-python",
   "name": "python",
   "nbconvert_exporter": "python",
   "pygments_lexer": "ipython3",
   "version": "3.11.2"
  }
 },
 "nbformat": 4,
 "nbformat_minor": 2
}
