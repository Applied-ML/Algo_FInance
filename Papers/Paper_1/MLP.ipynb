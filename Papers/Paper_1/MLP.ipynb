{
 "cells": [
  {
   "cell_type": "code",
   "execution_count": 1,
   "metadata": {},
   "outputs": [],
   "source": [
    "import numpy as np\n",
    "import pandas as pd\n",
    "from math import *\n",
    "import yfinance as yf\n",
    "from fin_lib import *\n",
    "from Backtesting import *"
   ]
  },
  {
   "cell_type": "code",
   "execution_count": 2,
   "metadata": {},
   "outputs": [],
   "source": [
    "df = pd.read_excel('google.xlsx')\n",
    "df.index = pd.to_datetime(df['Date'])\n",
    "df = df.drop(columns=['Date','Open','High','Low','Adj Close'])\n",
    "df = df.loc['2009-01-05':'2012-01-05']"
   ]
  },
  {
   "cell_type": "code",
   "execution_count": 3,
   "metadata": {},
   "outputs": [
    {
     "name": "stdout",
     "output_type": "stream",
     "text": [
      "Number of Combinations =  440\n"
     ]
    }
   ],
   "source": [
    "## we have alpha = number of past days to include, beta = profit margin, gamma = number of future days to hold.\n",
    "params = {\n",
    "    'alpha': list(range(1,11)),\n",
    "    'beta': [0.02, 0.025, 0.03, 0.035, 0.04, 0.045, 0.05, 0.055, 0.06, 0.065, 0.07],\n",
    "    'gamma': list(range(5,21,5))\n",
    "\n",
    "}\n",
    "\n",
    "print(\"Number of Combinations = \",len(params['alpha'])*len(params['beta'])*len(params['gamma']))"
   ]
  },
  {
   "cell_type": "code",
   "execution_count": 4,
   "metadata": {},
   "outputs": [],
   "source": [
    "keys = list(params.keys())\n"
   ]
  },
  {
   "cell_type": "code",
   "execution_count": 5,
   "metadata": {},
   "outputs": [],
   "source": [
    "model_results = {}\n",
    "counter=0\n",
    "\n",
    "for i in range(len(params[keys[0]])):\n",
    "    alpha = params[keys[0]][i]\n",
    "    for j in range(len(params[keys[1]])):\n",
    "        beta = params[keys[1]][j]\n",
    "        for k in range(len(params[keys[2]])):\n",
    "            gamma = params[keys[2]][k]\n",
    "\n",
    "            \n",
    "            df = target_creation(df,beta)\n",
    "            train_accuracy,test_accuracy,train_length,y_pred_test = Models(alpha,'mlp').Model(df)\n",
    "            transaction_dict,result = Strategies.gamma_based_strategy(df,train_length,y_pred_test,gamma)\n",
    "            current_params = [alpha,beta,gamma]\n",
    "            counter+=1\n",
    "            model_results.update({counter:[current_params,[train_accuracy,test_accuracy],[float(result)]]})\n",
    "\n"
   ]
  },
  {
   "cell_type": "code",
   "execution_count": 17,
   "metadata": {},
   "outputs": [
    {
     "name": "stdout",
     "output_type": "stream",
     "text": [
      "Best Parameters & Result =  [[10, 0.02, 20], [0.896551724137931, 0.8461538461538461], [7.0874366760253995]]\n"
     ]
    }
   ],
   "source": [
    "values_list = []\n",
    "\n",
    "for key in model_results.keys():\n",
    "  values_list.append(model_results[key][2])\n",
    "\n",
    "index = values_list.index(max(values_list))\n",
    "print(\"Best Parameters & Result = \",model_results[index+1])"
   ]
  }
 ],
 "metadata": {
  "kernelspec": {
   "display_name": "Python 3",
   "language": "python",
   "name": "python3"
  },
  "language_info": {
   "codemirror_mode": {
    "name": "ipython",
    "version": 3
   },
   "file_extension": ".py",
   "mimetype": "text/x-python",
   "name": "python",
   "nbconvert_exporter": "python",
   "pygments_lexer": "ipython3",
   "version": "3.11.2"
  }
 },
 "nbformat": 4,
 "nbformat_minor": 2
}
