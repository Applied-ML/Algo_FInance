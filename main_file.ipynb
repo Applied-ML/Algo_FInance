{
 "cells": [
  {
   "cell_type": "code",
   "execution_count": 77,
   "metadata": {},
   "outputs": [],
   "source": [
    "import numpy as np\n",
    "import pandas as pd\n",
    "import matplotlib.pyplot as plt\n",
    "from math import *\n",
    "import os\n",
    "import typing\n",
    "import tensorflow as tf\n",
    "from tensorflow import keras\n",
    "from tensorflow.keras import layers\n",
    "from tensorflow.keras import Input, Model\n",
    "from tensorflow.keras.layers import Dense\n",
    "from tqdm.notebook import tqdm\n",
    "from statistics import mean,stdev\n",
    "from xgboost import XGBClassifier\n",
    "from sklearn.metrics import mean_squared_error\n",
    "import random\n",
    "\n",
    "from tcn import TCN\n",
    "import wget\n",
    "from getData import getData\n",
    "from sklearn.metrics import *\n",
    "from residual_momentum import resMomentum\n",
    "import yfinance as yf\n",
    "\n",
    "from concurrent.futures import ThreadPoolExecutor\n",
    "from sklearn.metrics import accuracy_score\n",
    "from sklearn.model_selection import train_test_split\n",
    "import concurrent.futures\n",
    "import xgboost as xgb\n"
   ]
  },
  {
   "cell_type": "code",
   "execution_count": 63,
   "metadata": {},
   "outputs": [],
   "source": [
    "stock_prices = pd.read_excel('data/halal_stocks.xlsx')\n",
    "stock_prices = stock_prices.rename(columns={'Unnamed: 0':'Datetime'})\n",
    "stock_prices['Datetime'] = pd.to_datetime(stock_prices['Datetime'])\n",
    "stock_prices = stock_prices.set_index('Datetime')\n",
    "stock_prices = stock_prices.dropna(axis=1,how='any')\n"
   ]
  },
  {
   "cell_type": "code",
   "execution_count": 64,
   "metadata": {},
   "outputs": [
    {
     "name": "stdout",
     "output_type": "stream",
     "text": [
      "[*********************100%%**********************]  1 of 1 completed\n"
     ]
    }
   ],
   "source": [
    "lookbackperiod = 12\n",
    "holdingperiod = 12\n",
    "ranked_stocks,holding_returns,cumulative_returns = resMomentum(lookbackperiod,holdingperiod).getRankings(stock_prices)"
   ]
  },
  {
   "cell_type": "code",
   "execution_count": 65,
   "metadata": {},
   "outputs": [],
   "source": [
    "interval = '1d'\n",
    "startdate = '2023-01-01'\n",
    "stock_data = {}\n"
   ]
  },
  {
   "cell_type": "code",
   "execution_count": 66,
   "metadata": {},
   "outputs": [
    {
     "name": "stdout",
     "output_type": "stream",
     "text": [
      "[*********************100%%**********************]  1 of 1 completed\n",
      "[*********************100%%**********************]  1 of 1 completed\n",
      "[*********************100%%**********************]  1 of 1 completed\n",
      "[*********************100%%**********************]  1 of 1 completed\n",
      "[*********************100%%**********************]  1 of 1 completed\n",
      "[*********************100%%**********************]  1 of 1 completed\n",
      "[*********************100%%**********************]  1 of 1 completed\n",
      "[*********************100%%**********************]  1 of 1 completed\n",
      "[*********************100%%**********************]  1 of 1 completed\n",
      "[*********************100%%**********************]  1 of 1 completed\n",
      "[*********************100%%**********************]  1 of 1 completed\n",
      "[*********************100%%**********************]  1 of 1 completed\n",
      "[*********************100%%**********************]  1 of 1 completed\n",
      "[*********************100%%**********************]  1 of 1 completed\n",
      "[*********************100%%**********************]  1 of 1 completed\n",
      "[*********************100%%**********************]  1 of 1 completed\n",
      "[*********************100%%**********************]  1 of 1 completed\n",
      "[*********************100%%**********************]  1 of 1 completed\n",
      "[*********************100%%**********************]  1 of 1 completed\n",
      "[*********************100%%**********************]  1 of 1 completed\n"
     ]
    }
   ],
   "source": [
    "for i in range(len(ranked_stocks)):\n",
    "    stock_data[f'{ranked_stocks[i]}'] = yf.download(ranked_stocks[i],start=startdate,interval=interval)\n",
    "    stock_data[f'{ranked_stocks[i]}'].index = pd.to_datetime(stock_data[f'{ranked_stocks[i]}'].index)\n",
    "    \n",
    "    stock_data[ranked_stocks[i]]['Tomorrow'] = stock_data[ranked_stocks[i]][\"Close\"].shift(-1)\n",
    "    stock_data[ranked_stocks[i]][\"Target\"] = (stock_data[ranked_stocks[i]][\"Tomorrow\"] > stock_data[ranked_stocks[i]][\"Close\"]).astype(int)\n",
    "    stock_data[ranked_stocks[i]] = stock_data[ranked_stocks[i]].iloc[:-1]"
   ]
  },
  {
   "cell_type": "code",
   "execution_count": 83,
   "metadata": {},
   "outputs": [
    {
     "name": "stdout",
     "output_type": "stream",
     "text": [
      "Model for FLWS trained with accuracy: 0.6274509803921569\n",
      "Model for DDD trained with accuracy: 0.49019607843137253\n",
      "Model for MMM trained with accuracy: 0.5098039215686274\n",
      "Model for ANF trained with accuracy: 0.6078431372549019\n",
      "Model for AAN trained with accuracy: 0.5490196078431373\n",
      "Model for ABT trained with accuracy: 0.5490196078431373\n",
      "Model for AAON trained with accuracy: 0.5098039215686274\n",
      "Model for AOS trained with accuracy: 0.35294117647058826\n",
      "Model for ABBV trained with accuracy: 0.47058823529411764\n",
      "Model for ABM trained with accuracy: 0.49019607843137253\n",
      "Model for ACIW trained with accuracy: 0.5882352941176471\n",
      "Model for AYI trained with accuracy: 0.49019607843137253\n",
      "Model for ACMR trained with accuracy: 0.47058823529411764\n",
      "Model for GOLF trained with accuracy: 0.5490196078431373\n",
      "Model for ADUS trained with accuracy: 0.45098039215686275\n",
      "Model for ATGE trained with accuracy: 0.5490196078431373\n",
      "Model for AEY trained with accuracy: 0.49019607843137253\n",
      "Model for ADNT trained with accuracy: 0.37254901960784315\n",
      "Model for IE trained with accuracy: 0.39215686274509803\n",
      "Model for ADBE trained with accuracy: 0.5490196078431373\n"
     ]
    }
   ],
   "source": [
    "import xgboost as xgb\n",
    "from sklearn.metrics import precision_score\n",
    "\n",
    "\n",
    "def prepare_data(dataframe):\n",
    "\n",
    "    X = dataframe[['Open', 'High', 'Low', 'Close', 'Adj Close']]\n",
    "    y = dataframe['Target']\n",
    "\n",
    "\n",
    "    X_train, X_test, y_train, y_test = train_test_split(X, y, test_size=0.2, random_state=42)\n",
    "\n",
    "    return X_train, X_test, y_train, y_test\n",
    "\n",
    "def train_model(dataframe):\n",
    "\n",
    "    X_train, X_test, y_train, y_test = prepare_data(dataframe)\n",
    "\n",
    "    model = xgb.XGBClassifier()\n",
    "    model.fit(X_train, y_train)\n",
    "\n",
    "    predictions = model.predict(X_test)\n",
    "    accuracy = accuracy_score(y_test, predictions)\n",
    "    #accuracy = precision_score(y_test,predictions)\n",
    "    return model, accuracy\n",
    "\n",
    "\n",
    "with ThreadPoolExecutor(max_workers=10) as executor:\n",
    "    futures = {executor.submit(train_model, df): name for name, df in stock_data.items()}\n",
    "    for future in concurrent.futures.as_completed(futures):\n",
    "        df_name = futures[future]\n",
    "        try:\n",
    "            model, accuracy = future.result()\n",
    "            print(f\"Model for {df_name} trained with accuracy: {accuracy}\")\n",
    "        except Exception as e:\n",
    "            print(f\"Error training model for {df_name}: {e}\")\n",
    "\n",
    "\n"
   ]
  },
  {
   "cell_type": "code",
   "execution_count": 88,
   "metadata": {},
   "outputs": [],
   "source": [
    "new_dict = stock_data"
   ]
  },
  {
   "cell_type": "code",
   "execution_count": 97,
   "metadata": {},
   "outputs": [],
   "source": [
    "for i in range(len(ranked_stocks)):\n",
    "\n",
    "    new_dict[f'{ranked_stocks[i]}'] = stock_data[f'{ranked_stocks[i]}']['Close']\n",
    "    \n",
    "    new_dict[f'{ranked_stocks[i]}'] = pd.DataFrame(new_dict[f'{ranked_stocks[i]}'])\n",
    "    new_dict[f'{ranked_stocks[i]}'] = new_dict[f'{ranked_stocks[i]}'].rename(columns={'Close': ranked_stocks[i]})"
   ]
  },
  {
   "cell_type": "code",
   "execution_count": 99,
   "metadata": {},
   "outputs": [
    {
     "name": "stdout",
     "output_type": "stream",
     "text": [
      "WARNING:tensorflow:From C:\\Users\\Maged\\AppData\\Roaming\\Python\\Python311\\site-packages\\keras\\src\\backend.py:873: The name tf.get_default_graph is deprecated. Please use tf.compat.v1.get_default_graph instead.\n",
      "\n",
      "WARNING:tensorflow:From C:\\Users\\Maged\\AppData\\Roaming\\Python\\Python311\\site-packages\\keras\\src\\backend.py:1398: The name tf.executing_eagerly_outside_functions is deprecated. Please use tf.compat.v1.executing_eagerly_outside_functions instead.\n",
      "\n",
      "WARNING:tensorflow:From C:\\Users\\Maged\\AppData\\Roaming\\Python\\Python311\\site-packages\\keras\\src\\engine\\keras_tensor.py:236: The name tf.placeholder is deprecated. Please use tf.compat.v1.placeholder instead.\n",
      "\n",
      "WARNING:tensorflow:From C:\\Users\\Maged\\AppData\\Roaming\\Python\\Python311\\site-packages\\keras\\src\\utils\\tf_utils.py:229: The name tf.Dimension is deprecated. Please use tf.compat.v1.Dimension instead.\n",
      "\n",
      "WARNING:tensorflow:From C:\\Users\\Maged\\AppData\\Roaming\\Python\\Python311\\site-packages\\keras\\src\\optimizers\\__init__.py:309: The name tf.train.Optimizer is deprecated. Please use tf.compat.v1.train.Optimizer instead.\n",
      "\n",
      "WARNING:tensorflow:From C:\\Users\\Maged\\AppData\\Roaming\\Python\\Python311\\site-packages\\keras\\src\\utils\\tf_utils.py:492: The name tf.ragged.RaggedTensorValue is deprecated. Please use tf.compat.v1.ragged.RaggedTensorValue instead.\n",
      "\n",
      "Model for DDD trained successfully.\n",
      "Model for MMM trained successfully.\n",
      "Model for ABT trained successfully.\n",
      "Model for AAN trained successfully.\n",
      "Model for ANF trained successfully.\n",
      "Model for FLWS trained successfully.\n",
      "Model for ABBV trained successfully.\n",
      "Model for ABM trained successfully.\n",
      "Model for AOS trained successfully.\n",
      "Model for AAON trained successfully.\n",
      "Model for ACIW trained successfully.\n",
      "Model for ACMR trained successfully.\n",
      "Model for AYI trained successfully.\n",
      "Model for GOLF trained successfully.\n",
      "Model for ADUS trained successfully.\n",
      "Model for AEY trained successfully.\n",
      "Model for ADNT trained successfully.\n",
      "Model for ADBE trained successfully.\n",
      "Model for IE trained successfully.\n",
      "Model for ATGE trained successfully.\n"
     ]
    }
   ],
   "source": [
    "import concurrent.futures\n",
    "from keras.layers import Dense\n",
    "from keras.models import Sequential\n",
    "from sklearn.preprocessing import MinMaxScaler\n",
    "\n",
    "\n",
    "\n",
    "\n",
    "def prepare_data_for_TCN(dataframe, look_back):\n",
    "    \n",
    "    scaler = MinMaxScaler(feature_range=(0, 1))\n",
    "    scaled_data = scaler.fit_transform(dataframe.values.reshape(-1, 1))\n",
    "\n",
    "    \n",
    "    X, y = [], []\n",
    "    for i in range(look_back, len(scaled_data)):\n",
    "        X.append(scaled_data[i-look_back:i, 0])\n",
    "        y.append(scaled_data[i, 0])\n",
    "    X, y = np.array(X), np.array(y)\n",
    "\n",
    "    \n",
    "    X = np.reshape(X, (X.shape[0], X.shape[1], 1))\n",
    "    \n",
    "    return X, y, scaler\n",
    "\n",
    "def build_TCN_model(input_shape):\n",
    "    model = Sequential([\n",
    "        TCN(input_shape=input_shape),\n",
    "        Dense(1)\n",
    "    ])\n",
    "    model.compile(optimizer='adam', loss='mean_squared_error')\n",
    "    return model\n",
    "\n",
    "def train_TCN_model(dataframe):\n",
    "    look_back = 60  \n",
    "    X, y, scaler = prepare_data_for_TCN(dataframe, look_back)\n",
    "    model = build_TCN_model((X.shape[1], 1))\n",
    "    model.fit(X, y, epochs=10, batch_size=32, verbose=0)\n",
    "    return model, scaler\n",
    "\n",
    "\n",
    "with concurrent.futures.ThreadPoolExecutor(max_workers=10) as executor:\n",
    "    futures = {executor.submit(train_TCN_model, df): name for name, df in new_dict.items()}\n",
    "    for future in concurrent.futures.as_completed(futures):\n",
    "        ticker_name = futures[future]\n",
    "        try:\n",
    "            model, scaler = future.result()\n",
    "            print(f\"Model for {ticker_name} trained successfully.\")\n",
    "            \n",
    "        except Exception as e:\n",
    "            print(f\"Error training model for {ticker_name}: {e}\")\n",
    "\n",
    "\n"
   ]
  },
  {
   "cell_type": "code",
   "execution_count": null,
   "metadata": {},
   "outputs": [],
   "source": []
  }
 ],
 "metadata": {
  "kernelspec": {
   "display_name": "Python 3",
   "language": "python",
   "name": "python3"
  },
  "language_info": {
   "codemirror_mode": {
    "name": "ipython",
    "version": 3
   },
   "file_extension": ".py",
   "mimetype": "text/x-python",
   "name": "python",
   "nbconvert_exporter": "python",
   "pygments_lexer": "ipython3",
   "version": "3.11.2"
  }
 },
 "nbformat": 4,
 "nbformat_minor": 2
}
